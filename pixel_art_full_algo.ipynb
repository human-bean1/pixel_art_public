{
 "cells": [
  {
   "cell_type": "code",
   "execution_count": null,
   "id": "088359ba",
   "metadata": {},
   "outputs": [],
   "source": [
    "# Modified Deterministic Annealing"
   ]
  },
  {
   "cell_type": "code",
   "execution_count": 30,
   "id": "917e0f32",
   "metadata": {},
   "outputs": [],
   "source": [
    "import math\n",
    "from skimage import io, color\n",
    "from skimage.transform import resize\n",
    "import numpy as np\n",
    "\n",
    "from numpy import array\n",
    "from sklearn.decomposition import PCA\n",
    "import cv2"
   ]
  },
  {
   "cell_type": "code",
   "execution_count": 31,
   "id": "4243368b",
   "metadata": {},
   "outputs": [],
   "source": [
    "import matplotlib.pyplot as plt\n",
    "from scipy.cluster.hierarchy import dendrogram, linkage\n",
    "from sklearn.cluster import AgglomerativeClustering"
   ]
  },
  {
   "cell_type": "code",
   "execution_count": 32,
   "id": "99a3ad06",
   "metadata": {},
   "outputs": [],
   "source": [
    "# A class to initialize the super pixels, of the form - [h,w,l,a,b].\n",
    "class SuperPixels(object):\n",
    "\n",
    "    def __init__(self, h, w, r, c, l=0, a=0, b=0):\n",
    "        self.update(h, w, r, c, l, a, b)\n",
    "        self.pixels = [] # tracks associated input pixels\n",
    "\n",
    "    def update(self, h, w, r, c, l, a, b):\n",
    "        self.h = h\n",
    "        self.w = w\n",
    "        self.r = r # row in initial grid\n",
    "        self.c = c # column in initial grid\n",
    "        self.l = l\n",
    "        self.a = a\n",
    "        self.b = b\n",
    "        "
   ]
  },
  {
   "cell_type": "code",
   "execution_count": 33,
   "id": "178704af",
   "metadata": {},
   "outputs": [],
   "source": [
    "# returns an object of class SuperPixel\n",
    "def make_superPixel(h, w, img, r, c):\n",
    "    return SuperPixels(h, w, r, c, img[h,w][0],img[h,w][1],img[h,w][2])"
   ]
  },
  {
   "cell_type": "code",
   "execution_count": 34,
   "id": "134756f2",
   "metadata": {},
   "outputs": [],
   "source": [
    "# calculate gradient;  G(x,y) = ‖I(x+ 1,y)−I(x−1,y)‖²+‖I(x,y+ 1)−I(x,y−1)‖²\n",
    "def calc_gradient(h, w,img,img_w,img_h):\n",
    "    \n",
    "    l = pow(img[h, w+1][0] - img[h, w - 1][0] , 2) #\n",
    "    a = pow(img[h, w+1][1] - img[h, w - 1][1] , 2)\n",
    "    b = pow(img[h, w+1][2] - img[h, w - 1][2] , 2)\n",
    "    x_diff = math.sqrt(l + a + b)\n",
    "    \n",
    "    l = pow(img[h + 1, w][0] - img[h - 1, w][0] , 2)\n",
    "    a = pow(img[h + 1, w][1] - img[h - 1, w][1] , 2)\n",
    "    b = pow(img[h + 1, w][2] - img[h - 1, w][2] , 2)\n",
    "    y_diff = math.sqrt(l + a + b)\n",
    "    \n",
    "    grad = x_diff + y_diff\n",
    "    return grad"
   ]
  },
  {
   "cell_type": "code",
   "execution_count": 35,
   "id": "33d8d3fe",
   "metadata": {},
   "outputs": [],
   "source": [
    "# reassign clusters based on gradient\n",
    "def perturb_center(clusters, img):\n",
    "    for c in clusters:\n",
    "        center_gradient = calc_gradient(c.h, c.w,img,img_w,img_h)\n",
    "        w = c.w\n",
    "        h = c.h\n",
    "        for x in range(-1, 2):\n",
    "            for y in range(-1, 2):\n",
    "                W = w + x\n",
    "                H = h + y\n",
    "            \n",
    "                if H == img_h or W == img_w: # might need to increase to H-1,W-1\n",
    "                    new_gradient = math.inf\n",
    "                else:\n",
    "                    new_gradient = calc_gradient(H,W, img,img_w,img_h)\n",
    "                    \n",
    "                if new_gradient < center_gradient: # reassign to lower gradient position\n",
    "                    c.update(H, W, c.r, c.c, img[H,W][0], img[H,W][1],img[H,W][2])\n",
    "                    center_gradient = new_gradient # keeps track of lowest found in neighborhood so far"
   ]
  },
  {
   "cell_type": "code",
   "execution_count": 36,
   "id": "0d900bc3",
   "metadata": {},
   "outputs": [],
   "source": [
    "# Defines initial cluster centers distanced at S\n",
    "def initial_cluster_center(S,img,img_h,img_w): \n",
    "    clusters = []\n",
    "    h = S // 2 \n",
    "    w = S // 2\n",
    "    r = 0\n",
    "    c = 0\n",
    "    while h < img_h:\n",
    "        while w < img_w:\n",
    "            clusters.append(make_superPixel(h, w, img, r, c))\n",
    "            c += 1\n",
    "            w += S\n",
    "        w = S // 2\n",
    "        h += S\n",
    "        r += 1\n",
    "        c = 0  \n",
    "    return clusters"
   ]
  },
  {
   "cell_type": "code",
   "execution_count": 37,
   "id": "79d2179a",
   "metadata": {},
   "outputs": [],
   "source": [
    "# replaces superpixel representative color w/ mean of the input pixels from a given bilateral filtered version\n",
    "def update_mean_color(clusters, bilateral):\n",
    "    new_means = []\n",
    "    for c in clusters:\n",
    "        sum_l, sum_a, sum_b = 0,0,0\n",
    "        n = len(c.pixels)\n",
    "        \n",
    "        for p in c.pixels:           \n",
    "            sum_l += bilateral[p[0],p[1]][0]\n",
    "            sum_a += bilateral[p[0],p[1]][1]\n",
    "            sum_b += bilateral[p[0],p[1]][2]\n",
    "            \n",
    "        avg_l = sum_l / n # don't use floor division for LAB values\n",
    "        avg_a = sum_a / n\n",
    "        avg_b = sum_b / n\n",
    "        new_means.append([avg_l, avg_a, avg_b])\n",
    "    return new_means "
   ]
  },
  {
   "cell_type": "code",
   "execution_count": 38,
   "id": "bd3892f3",
   "metadata": {},
   "outputs": [],
   "source": [
    "# replaces cluster center's (x,y) position w/ mean of the input pixels and avg. color\n",
    "def update_cluster_mean(clusters, image):\n",
    "    for c in clusters:\n",
    "        sum_h = sum_w = number = 0\n",
    "        sum_l, sum_a, sum_b = 0,0,0\n",
    "        n = len(c.pixels)\n",
    "        \n",
    "        for p in c.pixels:\n",
    "            sum_h += p[0]\n",
    "            sum_w += p[1]            \n",
    "            sum_l += image[p[0],p[1]][0]\n",
    "            sum_a += image[p[0],p[1]][1]\n",
    "            sum_b += image[p[0],p[1]][2]\n",
    "            \n",
    "        H = sum_h // n\n",
    "        W = sum_w // n\n",
    "        avg_l = sum_l / n \n",
    "        avg_a = sum_a / n\n",
    "        avg_b = sum_b / n\n",
    "        c.update(H, W, c.r, c.c, avg_l, avg_a, avg_b)"
   ]
  },
  {
   "cell_type": "code",
   "execution_count": 39,
   "id": "42d21f45",
   "metadata": {},
   "outputs": [],
   "source": [
    "# converts LAB images back to RGB and save it\n",
    "def lab2rgb(path, lab_arr):\n",
    "    rgb_arr = color.lab2rgb(lab_arr)\n",
    "    io.imsave(path, rgb_arr)"
   ]
  },
  {
   "cell_type": "code",
   "execution_count": 40,
   "id": "e39ddcad",
   "metadata": {},
   "outputs": [],
   "source": [
    "# replace the color of each pixel in a cluster by the color of the cluster's center \n",
    "def avg_color_cluster(img,name,clusters):\n",
    "    image = np.copy(img)\n",
    "        \n",
    "    for c in clusters:\n",
    "        for p in c.pixels:\n",
    "            image[p[0],p[1]][0] = c.l\n",
    "            image[p[0],p[1]][1] = c.a\n",
    "            image[p[0],p[1]][2] = c.b\n",
    "        # To change the color of cluster center to Black\n",
    "        image[c.h, c.w][0] = 0\n",
    "        image[c.h, c.w][1] = 0\n",
    "        image[c.h, c.w][2] = 0        \n",
    "        \n",
    "    lab2rgb(name, image)"
   ]
  },
  {
   "cell_type": "code",
   "execution_count": 41,
   "id": "0ad89bdc",
   "metadata": {},
   "outputs": [],
   "source": [
    "# assign pixels to center w/ best color & position proximity in a 2S x 2S neighborhood\n",
    "def assign_pixels(clusters, S, img, img_h, img_w):\n",
    "    \n",
    "    prev = {} # tracks clusters found before best cluster identified\n",
    "    \n",
    "    # initialize the distance between pixels and cluster center as infinity\n",
    "    dis = np.full((img_h, img_w), np.inf) \n",
    "    \n",
    "    for c in clusters:\n",
    "        for h in range(c.h - 2 * S, c.h + 2 * S):       \n",
    "            if h < 0 or h >= img_h: continue           # check image height boundaries\n",
    "            for w in range(c.w - 2 * S, c.w + 2 * S):  # 2S x 2S neighborhood\n",
    "                if w < 0 or w >= img_w: continue       # check image width boundaries\n",
    "                l, a, b = img[h,w]                     # load input pixel\n",
    "                Dc = math.sqrt(math.pow(l - c.l, 2) + math.pow(a - c.a, 2) + math.pow(b - c.b, 2))\n",
    "                Dp = math.sqrt(math.pow(h - c.h, 2) + math.pow(w - c.w, 2))\n",
    "                D = Dc + (Dp * m / S) \n",
    "                # check if closest center found so far\n",
    "                if D < dis[h,w]:\n",
    "                    if (h, w) in prev:\n",
    "                        prev[(h, w)].pixels.remove((h, w)) # removes an input pixel prev. associated w/ another cluster\n",
    "                        prev[(h, w)] = c # re-assigned cluster\n",
    "                        c.pixels.append((h, w))\n",
    "                    else:\n",
    "                        prev[(h, w)] = c\n",
    "                        c.pixels.append((h, w))\n",
    "                    dis[h, w] = D "
   ]
  },
  {
   "cell_type": "code",
   "execution_count": 43,
   "id": "9d53a7cd",
   "metadata": {},
   "outputs": [],
   "source": [
    "# initialize color palette given specified size\n",
    "def makePalette(size, initial_color):\n",
    "    arr = np.zeros((size, 3))\n",
    "    arr[0] = initial_color\n",
    "    return arr"
   ]
  },
  {
   "cell_type": "code",
   "execution_count": 44,
   "id": "eeccbccf",
   "metadata": {},
   "outputs": [],
   "source": [
    "# Used during palette initialization\n",
    "def assign_color(clusters, palette, color):\n",
    "    for c in clusters:\n",
    "        c.l = palette[color][0]\n",
    "        c.a = palette[color][1]\n",
    "        c.b = palette[color][2]"
   ]
  },
  {
   "cell_type": "code",
   "execution_count": 45,
   "id": "f047fc37",
   "metadata": {},
   "outputs": [],
   "source": [
    "# associate each superpixel w/ a palette color\n",
    "def assign_pal_color(clusters, palette, pal_size):\n",
    "    this_probs = []\n",
    "    for c in clusters:\n",
    "        c_prob = 0\n",
    "        y = [] # store probabilities for each color \n",
    "        for count, p in enumerate(palette):\n",
    "                        \n",
    "            # calculate diff in LAB space\n",
    "            norm = math.sqrt(math.pow(c.l - p[0], 2) + math.pow(c.a - p[1], 2) + math.pow(c.b - p[2], 2))\n",
    "            x = (norm / T) * -1\n",
    "            x = 2*x # try\n",
    "            new_prob = math.pow(math.e, x) \n",
    "            y.append(new_prob)\n",
    "                       \n",
    "            # associate if largest probability found\n",
    "            if new_prob > c_prob:\n",
    "                c.l = p[0]\n",
    "                c.a = p[1]\n",
    "                c.b = p[2] # assigns superpixel w/ palette color \n",
    "                c_prob = new_prob # track latest greatest probability found so far    \n",
    "            \n",
    "        y = normalize_probs(y)\n",
    "        this_probs.append(y)          \n",
    "#     print(\"pal this_probs:\", this_probs)\n",
    "    return this_probs"
   ]
  },
  {
   "cell_type": "code",
   "execution_count": 46,
   "id": "2fa05383",
   "metadata": {},
   "outputs": [],
   "source": [
    "# normalize probabilities\n",
    "# takes in an array of probabilities and makes sure they sum to 1\n",
    "def normalize_probs(probs):\n",
    "    norm_probs = []\n",
    "    all_probs = sum(probs)\n",
    "    for p in probs:\n",
    "        x = p / all_probs\n",
    "        norm_probs.append(x)\n",
    "    return norm_probs"
   ]
  },
  {
   "cell_type": "code",
   "execution_count": 47,
   "id": "d17b1b90",
   "metadata": {},
   "outputs": [],
   "source": [
    "#refine color palette\n",
    "def refine_pal(clusters, palette, size, new_means, probs): \n",
    "    \n",
    "    new_pal = []\n",
    "    \n",
    "    for i in range(size):\n",
    "        # calculate weighted avg of superpixel colors to a palette color\n",
    "        # sum up each product of superpixel's color and weight (associated probability)\n",
    "        sum_l = 0\n",
    "        sum_a = 0\n",
    "        sum_b = 0\n",
    "        sum_weights = 0.0001 # prevent Zero Division error\n",
    "        \n",
    "        lst = get_clusters(clusters, probs)\n",
    "        for count, c in enumerate(clusters): # get bilateral mean color\n",
    "            if lst[count] == i:\n",
    "                prob = probs[count][i] # associated probability\n",
    "                l = new_means[count][0] * prob\n",
    "                a = new_means[count][1] * prob\n",
    "                b = new_means[count][2] * prob\n",
    "            \n",
    "                sum_l += l\n",
    "                sum_a += a\n",
    "                sum_b += b\n",
    "                sum_weights += prob\n",
    "        # weighted avg\n",
    "        new_l = sum_l / sum_weights\n",
    "        new_a = sum_a / sum_weights\n",
    "        new_b = sum_b / sum_weights \n",
    "           \n",
    "        new_pal.append([new_l, new_a, new_b])\n",
    "    return new_pal"
   ]
  },
  {
   "cell_type": "code",
   "execution_count": 48,
   "id": "503fd7c6",
   "metadata": {},
   "outputs": [],
   "source": [
    "# get clusters associated with palette color\n",
    "def get_clusters(clusters, probs):\n",
    "    pal_indices = []\n",
    "    for x in probs:\n",
    "        an_array = np.array(x)\n",
    "        index = np.argmax(an_array) # index of palette color\n",
    "        pal_indices.append(index)\n",
    "    return pal_indices"
   ]
  },
  {
   "cell_type": "code",
   "execution_count": 49,
   "id": "f4ded526",
   "metadata": {},
   "outputs": [],
   "source": [
    "# checks if palette converged\n",
    "def if_converg(prev_pal, palette):\n",
    "#     tolerance = 0.01\n",
    "    tolerance = 0.1\n",
    "    diffs = []\n",
    "    for count, p in enumerate(palette):       \n",
    "        l = math.pow(prev_pal[count][0] - p[0], 2)\n",
    "        a = math.pow(prev_pal[count][1] - p[1], 2)\n",
    "        b = math.pow(prev_pal[count][2] - p[2], 2)\n",
    "        diff = math.sqrt(l+a+b)\n",
    "        diffs.append(diff)\n",
    "    print(\"pal diff\")\n",
    "    print(max(diffs))\n",
    "    if max(diffs) < tolerance: \n",
    "        return True\n",
    "    else:\n",
    "        return False"
   ]
  },
  {
   "cell_type": "code",
   "execution_count": 50,
   "id": "9abfa752",
   "metadata": {},
   "outputs": [],
   "source": [
    "# laplacian smoothing: adjust superpixel center closer to avg of its 4-connected neighbors\n",
    "def laplacian(clusters):\n",
    "    x = len(clusters)\n",
    "    row = clusters[x-1].r + 1 # number of rows\n",
    "    col = clusters[x-1].c + 1 # number of columns\n",
    "      \n",
    "    for count, c in enumerate(clusters):\n",
    "\n",
    "        # skip first and last row; # skip left and right column\n",
    "        if c.r == 0 or c.r == (row-1):\n",
    "            continue \n",
    "        if c.c == 0 or c.c == (col-1):\n",
    "            continue    \n",
    "\n",
    "        # get h & w from 4-connected neighbors\n",
    "        lh, lw = clusters[count - 1].h, clusters[count - 1].w\n",
    "        rh, rw = clusters[count + 1].h, clusters[count + 1].w\n",
    "        th, tw = clusters[count - col].h, clusters[count - col].w\n",
    "                \n",
    "        bh, bw = clusters[count + col].h, clusters[count + col].w\n",
    "\n",
    "        # calculate displacement\n",
    "        x_avg = (lw + rw + tw + bw) / 4\n",
    "        y_avg = (lh + rh + th + bh) / 4 \n",
    "        x_diff = c.w - x_avg\n",
    "        y_diff = c.h - y_avg\n",
    "\n",
    "        # move center closer to avg \n",
    "        c.w = math.floor(c.w + (x_diff * 0.4))\n",
    "        c.h = math.floor(c.h + (y_diff * 0.4))\n",
    "        "
   ]
  },
  {
   "cell_type": "code",
   "execution_count": 52,
   "id": "9b0a4df7",
   "metadata": {},
   "outputs": [],
   "source": [
    "# expand palette\n",
    "def expand_pal(palette, size, new_means, probs):\n",
    "    \n",
    "    new_pal = []\n",
    "    \n",
    "    means_lst = run_means_assign(palette, new_means, probs) #\n",
    "    \n",
    "    # iterate over each color in palette\n",
    "    for count, p in enumerate(palette):\n",
    "        # get two centroids\n",
    "        if not means_lst[count]: continue \n",
    "        if len(means_lst[count])==1: continue\n",
    "        centers_lst = two_centroids(means_lst[count])\n",
    "        x = centers_lst[0]\n",
    "        y = centers_lst[1]\n",
    "        \n",
    "        l = math.pow(x[0] - y[0], 2)\n",
    "        a = math.pow(x[1] - y[1], 2)\n",
    "        b = math.pow(x[2] - y[2], 2)\n",
    "        diff = math.sqrt(l+a+b)\n",
    "\n",
    "        if diff > 10: # can adjust tolerance\n",
    "            # split\n",
    "            new_pal.append(x)\n",
    "            new_pal.append(y) \n",
    "        else:\n",
    "            new_pal.append(p)\n",
    "\n",
    "    return new_pal  "
   ]
  },
  {
   "cell_type": "code",
   "execution_count": 53,
   "id": "8e9c340b",
   "metadata": {},
   "outputs": [],
   "source": [
    "# calculates two centroids for a list of LAB colors\n",
    "def two_centroids(data): \n",
    "    linkage_data = linkage(data, method='ward', metric='euclidean')\n",
    "    dendrogram(linkage_data)\n",
    "    hierarchical_cluster = AgglomerativeClustering(n_clusters=6, affinity='euclidean', linkage='ward')\n",
    "    labels = hierarchical_cluster.fit_predict(data) \n",
    "    \n",
    "    first_lst = []\n",
    "    second_lst = []\n",
    "\n",
    "    for count, l in enumerate(labels):\n",
    "        if l == 0:\n",
    "            first_lst.append(data[count])\n",
    "        if l == 1:\n",
    "            second_lst.append(data[count])\n",
    "\n",
    "    x = np.array(first_lst)\n",
    "    y = np.array(second_lst)\n",
    "\n",
    "    centroid_1 = x.mean(axis=0) # centroid 1\n",
    "    centroid_2 = y.mean(axis=0) # centroid 2\n",
    "    \n",
    "    two_centroids = []\n",
    "    two_centroids.append(centroid_1)\n",
    "    two_centroids.append(centroid_2)\n",
    "    # returns the two centroids of the list \n",
    "    return two_centroids "
   ]
  },
  {
   "cell_type": "code",
   "execution_count": 54,
   "id": "ad66583c",
   "metadata": {},
   "outputs": [],
   "source": [
    "# run means_assign on each palette color\n",
    "def run_means_assign(palette, new_means, probs):\n",
    "    pal_means = []\n",
    "    size = len(palette)\n",
    "    for i in range(size):\n",
    "        means = means_assign(i, new_means, probs)\n",
    "        pal_means.append(means)\n",
    "    # returns list of list of new means   \n",
    "    return pal_means "
   ]
  },
  {
   "cell_type": "code",
   "execution_count": 55,
   "id": "229b6f45",
   "metadata": {},
   "outputs": [],
   "source": [
    "def means_assign(item_index, new_means, probs):\n",
    "    means_lst = [] # stores items from new_means\n",
    "    for count, x in enumerate(probs):\n",
    "        an_array = np.array(x)\n",
    "        index = np.argmax(an_array) # index of palette color\n",
    "        \n",
    "        if index == item_index: # superpixel was associated with this palette color\n",
    "            means_lst.append(new_means[count])\n",
    "        \n",
    "    # returns sub-set of new_means for each palette color \n",
    "    return means_lst "
   ]
  },
  {
   "cell_type": "code",
   "execution_count": 56,
   "id": "fc3444a4",
   "metadata": {},
   "outputs": [],
   "source": [
    "def pal_assigns(probs):\n",
    "    assigns = []\n",
    "    for count, x in enumerate(probs):\n",
    "        an_array = np.array(x)\n",
    "        index = np.argmax(an_array)\n",
    "        assigns.append(index)\n",
    "        \n",
    "    # returns clusters palette color assignments \n",
    "    return assigns"
   ]
  },
  {
   "cell_type": "code",
   "execution_count": 57,
   "id": "86c5b7a3",
   "metadata": {},
   "outputs": [
    {
     "name": "stdout",
     "output_type": "stream",
     "text": [
      "(600, 600, 3)\n",
      "[[ 2.19338797e+00 -1.39257019e-04  2.63961737e-04]\n",
      " [ 2.19338797e+00 -1.39257019e-04  2.63961737e-04]\n",
      " [ 2.19338797e+00 -1.39257019e-04  2.63961737e-04]\n",
      " ...\n",
      " [ 3.14798880e-01  4.33702381e-01 -1.98422326e+00]\n",
      " [ 3.14798880e-01  4.33702381e-01 -1.98422326e+00]\n",
      " [ 9.89341352e-02  6.95219098e-01 -1.89211773e+00]]\n",
      "fcomponents:\n",
      "[[ 0.69874791 -0.08878177  0.70983742]\n",
      " [ 0.7141013   0.02754238 -0.69950036]\n",
      " [ 0.04255227  0.99567023  0.08264436]]\n",
      "explained variance\n",
      "[438.85178851 322.34919617  34.45607173]\n",
      "explained variance\n",
      "[438.85178851 322.34919617  34.45607173]\n",
      "[[ 22.92148803   1.83303148 -15.96875144]]\n"
     ]
    }
   ],
   "source": [
    "# read the input RGB image\n",
    "rgb = io.imread(\"japan-small.jpg\",plugin='matplotlib')\n",
    "print(rgb.shape)\n",
    "\n",
    "# convert RGB to LAB\n",
    "img = color.rgb2lab(rgb)\n",
    "\n",
    "k = 300   # Number of Super pixels\n",
    "m = 45    # Constant for normalizing the color proximity, range of m = [1,40], # paper uses '45'\n",
    "\n",
    "img_h = img.shape[0] # Image Height\n",
    "img_w = img.shape[1] # Image Width\n",
    "\n",
    "N = img_h * img_w  # Total number of pixels in the image\n",
    "S = int(math.sqrt(N / k)) # initial length of one superpixel along one dimension\n",
    "\n",
    "flat_img = img.reshape((N,3))\n",
    "\n",
    "# Initialize T and color palette\n",
    "T = 1\n",
    "average = flat_img.mean(axis=0) # avg color of input image\n",
    "# average = img.mean(axis=0).mean(axis=0) # or\n",
    "colors = 8 # user can change\n",
    "palette = makePalette(1, average) # track palette colors\n",
    "pal_size = 1 # initial palette size 1\n",
    "print(palette)\n",
    "image = np.copy(img)\n",
    "# Apply bilateral filter with d = 15, \n",
    "# sigmaColor = sigmaSpace = 75.\n",
    "bilateral = cv2.bilateralFilter(rgb, 15, 75, 75)\n",
    "bilateral = color.rgb2lab(bilateral) # change to LAB space"
   ]
  },
  {
   "cell_type": "code",
   "execution_count": null,
   "id": "79647138",
   "metadata": {},
   "outputs": [
    {
     "name": "stdout",
     "output_type": "stream",
     "text": [
      "T\n",
      "1\n",
      "cycle0\n",
      "prev pal:\n",
      "[[ 22.92148803   1.83303148 -15.96875144]]\n",
      "refined pal:\n",
      "[[22.313890580175705, 1.6900992455864667, -15.747112662440935]]\n",
      "pal diff\n",
      "0.6623654853297157\n",
      "False\n",
      "p-color assignments:\n",
      "[0, 0, 0, 0, 0, 0, 0, 0, 0, 0, 0, 0, 0, 0, 0, 0, 0, 0, 0, 0, 0, 0, 0, 0, 0, 0, 0, 0, 0, 0, 0, 0, 0, 0, 0, 0, 0, 0, 0, 0, 0, 0, 0, 0, 0, 0, 0, 0, 0, 0, 0, 0, 0, 0, 0, 0, 0, 0, 0, 0, 0, 0, 0, 0, 0, 0, 0, 0, 0, 0, 0, 0, 0, 0, 0, 0, 0, 0, 0, 0, 0, 0, 0, 0, 0, 0, 0, 0, 0, 0, 0, 0, 0, 0, 0, 0, 0, 0, 0, 0, 0, 0, 0, 0, 0, 0, 0, 0, 0, 0, 0, 0, 0, 0, 0, 0, 0, 0, 0, 0, 0, 0, 0, 0, 0, 0, 0, 0, 0, 0, 0, 0, 0, 0, 0, 0, 0, 0, 0, 0, 0, 0, 0, 0, 0, 0, 0, 0, 0, 0, 0, 0, 0, 0, 0, 0, 0, 0, 0, 0, 0, 0, 0, 0, 0, 0, 0, 0, 0, 0, 0, 0, 0, 0, 0, 0, 0, 0, 0, 0, 0, 0, 0, 0, 0, 0, 0, 0, 0, 0, 0, 0, 0, 0, 0, 0, 0, 0, 0, 0, 0, 0, 0, 0, 0, 0, 0, 0, 0, 0, 0, 0, 0, 0, 0, 0, 0, 0, 0, 0, 0, 0, 0, 0, 0, 0, 0, 0, 0, 0, 0, 0, 0, 0, 0, 0, 0, 0, 0, 0, 0, 0, 0, 0, 0, 0, 0, 0, 0, 0, 0, 0, 0, 0, 0, 0, 0, 0, 0, 0, 0, 0, 0, 0, 0, 0, 0, 0, 0, 0, 0, 0, 0, 0, 0, 0, 0, 0, 0, 0, 0, 0, 0, 0, 0, 0, 0, 0, 0, 0, 0, 0, 0, 0, 0, 0, 0, 0, 0, 0, 0, 0, 0, 0, 0, 0, 0, 0, 0, 0, 0, 0, 0, 0, 0, 0, 0, 0, 0, 0, 0, 0, 0, 0]\n"
     ]
    },
    {
     "name": "stderr",
     "output_type": "stream",
     "text": [
      "/tmp/ipykernel_626047/3884320758.py:4: UserWarning: city-2_m45_k300_C-0.png is a low contrast image\n",
      "  io.imsave(path, rgb_arr)\n",
      "Lossy conversion from float64 to uint8. Range [0, 1]. Convert image to uint8 prior to saving to suppress this warning.\n"
     ]
    },
    {
     "name": "stdout",
     "output_type": "stream",
     "text": [
      "cycle1\n",
      "prev pal:\n",
      "[[22.313890580175705, 1.6900992455864667, -15.747112662440935]]\n",
      "refined pal:\n",
      "[[22.319057293507427, 1.6883525508394213, -15.755069572843054]]\n",
      "pal diff\n",
      "0.009646672604524523\n",
      "True\n",
      "0.7\n",
      "[array([ 19.7420975 ,   2.36435843, -21.64637128]), array([50.23838461,  6.5683375 , 45.14783553])]\n",
      "2\n",
      "p-color assignments:\n",
      "[0, 0, 0, 0, 0, 0, 0, 0, 0, 0, 0, 0, 0, 0, 0, 0, 0, 0, 0, 0, 0, 0, 0, 0, 0, 0, 0, 0, 0, 0, 0, 0, 0, 0, 0, 0, 0, 0, 0, 0, 0, 0, 0, 0, 0, 0, 0, 0, 0, 0, 0, 0, 0, 0, 0, 0, 0, 0, 0, 0, 0, 0, 0, 0, 0, 0, 0, 0, 0, 0, 0, 0, 0, 0, 0, 0, 0, 0, 0, 0, 0, 0, 0, 0, 0, 0, 0, 0, 0, 0, 0, 0, 0, 0, 0, 0, 0, 0, 0, 0, 0, 0, 0, 0, 0, 0, 0, 0, 0, 0, 0, 0, 0, 0, 0, 0, 0, 0, 0, 0, 0, 0, 0, 0, 0, 0, 0, 0, 0, 0, 0, 0, 0, 0, 0, 0, 0, 0, 0, 0, 0, 0, 0, 0, 0, 0, 0, 0, 0, 0, 0, 0, 0, 0, 0, 0, 0, 0, 0, 0, 0, 0, 0, 0, 0, 0, 0, 0, 0, 0, 0, 0, 0, 0, 0, 0, 0, 0, 0, 0, 0, 0, 0, 0, 0, 0, 0, 0, 0, 0, 0, 0, 0, 0, 0, 0, 0, 0, 0, 0, 0, 0, 0, 0, 0, 0, 0, 0, 0, 0, 0, 0, 0, 0, 0, 0, 0, 0, 0, 0, 0, 0, 0, 0, 0, 0, 0, 0, 0, 0, 0, 0, 0, 0, 0, 0, 0, 0, 0, 0, 0, 0, 0, 0, 0, 0, 0, 0, 0, 0, 0, 0, 0, 0, 0, 0, 0, 0, 0, 0, 0, 0, 0, 0, 0, 0, 0, 0, 0, 0, 0, 0, 0, 0, 0, 0, 0, 0, 0, 0, 0, 0, 0, 0, 0, 0, 0, 0, 0, 0, 0, 0, 0, 0, 0, 0, 0, 0, 0, 0, 0, 0, 0, 0, 0, 0, 0, 0, 0, 0, 0, 0, 0, 0, 0, 0, 0, 0, 0, 0, 0, 0, 0, 0]\n"
     ]
    },
    {
     "name": "stderr",
     "output_type": "stream",
     "text": [
      "/tmp/ipykernel_626047/3884320758.py:4: UserWarning: city-2_m45_k300_C-1.png is a low contrast image\n",
      "  io.imsave(path, rgb_arr)\n",
      "Lossy conversion from float64 to uint8. Range [0, 1]. Convert image to uint8 prior to saving to suppress this warning.\n"
     ]
    },
    {
     "name": "stdout",
     "output_type": "stream",
     "text": [
      "cycle2\n",
      "prev pal:\n",
      "[array([ 19.7420975 ,   2.36435843, -21.64637128]), array([50.23838461,  6.5683375 , 45.14783553])]\n",
      "refined pal:\n",
      "[[22.053787335287677, 1.6788904079763536, -16.247449562910408], [65.83304506107264, 2.7612936865899815, 62.8731507032285]]\n",
      "pal diff\n",
      "23.91388331333133\n",
      "False\n",
      "p-color assignments:\n",
      "[0, 0, 0, 0, 0, 0, 0, 0, 0, 0, 0, 0, 0, 0, 0, 0, 0, 0, 0, 0, 0, 0, 0, 0, 0, 0, 0, 0, 0, 0, 0, 0, 0, 0, 0, 0, 0, 0, 0, 0, 0, 0, 0, 0, 0, 0, 0, 0, 0, 0, 0, 0, 0, 0, 0, 0, 0, 0, 0, 0, 0, 0, 0, 0, 0, 0, 0, 0, 0, 0, 0, 0, 0, 0, 0, 0, 0, 0, 0, 0, 0, 0, 0, 0, 0, 0, 0, 0, 0, 0, 0, 0, 0, 0, 0, 0, 0, 0, 0, 0, 0, 0, 0, 0, 0, 0, 0, 0, 0, 0, 0, 0, 0, 0, 0, 0, 0, 0, 0, 0, 0, 0, 0, 0, 0, 0, 0, 0, 0, 0, 0, 0, 0, 0, 0, 0, 0, 0, 0, 0, 0, 0, 0, 0, 0, 0, 0, 0, 0, 0, 0, 0, 0, 0, 0, 0, 0, 0, 0, 0, 0, 0, 0, 0, 0, 0, 0, 0, 0, 0, 0, 0, 0, 0, 0, 0, 0, 0, 0, 0, 0, 0, 0, 0, 0, 0, 0, 0, 0, 0, 0, 0, 0, 0, 0, 0, 0, 0, 0, 0, 0, 0, 0, 0, 0, 0, 0, 0, 0, 0, 0, 0, 0, 0, 0, 0, 0, 0, 0, 0, 0, 0, 0, 0, 0, 0, 0, 0, 0, 0, 0, 0, 0, 0, 0, 0, 0, 0, 0, 0, 0, 0, 0, 0, 0, 0, 0, 0, 0, 0, 0, 0, 0, 0, 0, 0, 0, 0, 0, 0, 0, 0, 0, 0, 0, 0, 0, 0, 0, 0, 0, 0, 0, 0, 0, 0, 0, 0, 0, 0, 0, 0, 0, 0, 0, 0, 0, 0, 0, 0, 0, 0, 0, 0, 0, 0, 0, 0, 0, 0, 0, 0, 0, 0, 0, 0, 0, 1, 1, 0, 0, 0, 0, 0, 0, 0, 0, 0, 0, 0, 0, 0, 0, 0]\n"
     ]
    },
    {
     "name": "stderr",
     "output_type": "stream",
     "text": [
      "/tmp/ipykernel_626047/3884320758.py:4: UserWarning: city-2_m45_k300_C-2.png is a low contrast image\n",
      "  io.imsave(path, rgb_arr)\n",
      "Lossy conversion from float64 to uint8. Range [0, 1]. Convert image to uint8 prior to saving to suppress this warning.\n"
     ]
    },
    {
     "name": "stdout",
     "output_type": "stream",
     "text": [
      "cycle3\n",
      "prev pal:\n",
      "[[22.053787335287677, 1.6788904079763536, -16.247449562910408], [65.83304506107264, 2.7612936865899815, 62.8731507032285]]\n",
      "refined pal:\n",
      "[[22.106017392351784, 1.6915685621172831, -16.095809094827086], [78.0183939890783, -2.979172404691779, 72.438265885906]]\n",
      "pal diff\n",
      "16.5205056793154\n",
      "False\n",
      "p-color assignments:\n",
      "[0, 0, 0, 0, 0, 0, 0, 0, 0, 0, 0, 0, 0, 0, 0, 0, 0, 0, 0, 0, 0, 0, 0, 0, 0, 0, 0, 0, 0, 0, 0, 0, 0, 0, 0, 0, 0, 0, 0, 0, 0, 0, 0, 0, 0, 0, 0, 0, 0, 0, 0, 0, 0, 0, 0, 0, 0, 0, 0, 0, 0, 0, 0, 0, 0, 0, 0, 0, 0, 0, 0, 0, 0, 0, 0, 0, 0, 0, 0, 0, 0, 0, 0, 0, 0, 0, 0, 0, 0, 0, 0, 0, 0, 0, 0, 0, 0, 0, 0, 0, 0, 0, 0, 0, 0, 0, 0, 0, 0, 0, 0, 0, 0, 0, 0, 0, 0, 0, 0, 0, 0, 0, 0, 0, 0, 0, 0, 0, 0, 0, 0, 0, 0, 0, 0, 0, 0, 0, 0, 0, 0, 0, 0, 0, 0, 0, 0, 0, 0, 0, 0, 0, 0, 0, 0, 0, 0, 0, 0, 0, 0, 0, 0, 0, 0, 0, 0, 0, 0, 0, 0, 0, 0, 0, 0, 0, 0, 0, 0, 0, 0, 0, 0, 0, 0, 0, 0, 0, 0, 0, 0, 0, 0, 0, 0, 0, 0, 0, 0, 0, 0, 0, 0, 0, 0, 0, 0, 0, 0, 0, 0, 0, 0, 0, 0, 0, 0, 0, 0, 0, 0, 0, 0, 0, 0, 0, 0, 0, 0, 0, 0, 0, 0, 0, 0, 0, 0, 0, 0, 0, 0, 0, 0, 0, 0, 0, 0, 0, 0, 0, 0, 0, 0, 0, 0, 0, 0, 0, 0, 0, 0, 0, 0, 0, 0, 0, 0, 0, 0, 0, 0, 0, 0, 0, 0, 0, 0, 0, 0, 0, 0, 0, 0, 0, 0, 0, 0, 0, 0, 0, 0, 0, 0, 0, 0, 0, 0, 0, 0, 0, 0, 0, 0, 0, 0, 0, 0, 0, 1, 0, 0, 0, 0, 0, 0, 0, 0, 0, 0, 0, 0, 0, 0, 0]\n"
     ]
    },
    {
     "name": "stderr",
     "output_type": "stream",
     "text": [
      "/tmp/ipykernel_626047/3884320758.py:4: UserWarning: city-2_m45_k300_C-3.png is a low contrast image\n",
      "  io.imsave(path, rgb_arr)\n",
      "Lossy conversion from float64 to uint8. Range [0, 1]. Convert image to uint8 prior to saving to suppress this warning.\n"
     ]
    },
    {
     "name": "stdout",
     "output_type": "stream",
     "text": [
      "cycle4\n",
      "prev pal:\n",
      "[[22.106017392351784, 1.6915685621172831, -16.095809094827086], [78.0183939890783, -2.979172404691779, 72.438265885906]]\n",
      "refined pal:\n",
      "[[22.242259948718736, 1.681035207190828, -15.864947585701698], [0.0, 0.0, 0.0]]\n",
      "pal diff\n",
      "106.50374469195503\n",
      "False\n",
      "p-color assignments:\n",
      "[0, 0, 0, 0, 0, 0, 0, 0, 0, 0, 0, 0, 0, 0, 0, 0, 0, 0, 0, 0, 0, 0, 0, 0, 0, 0, 0, 0, 0, 0, 0, 0, 0, 0, 0, 0, 0, 0, 0, 0, 0, 0, 0, 0, 0, 0, 0, 0, 0, 0, 0, 0, 0, 0, 0, 0, 0, 0, 0, 0, 0, 0, 0, 0, 0, 0, 0, 0, 0, 0, 0, 0, 0, 0, 0, 0, 0, 0, 0, 0, 0, 0, 0, 0, 0, 0, 0, 0, 0, 0, 0, 0, 0, 0, 0, 0, 0, 0, 0, 0, 0, 0, 0, 0, 0, 0, 0, 0, 0, 0, 0, 0, 0, 0, 0, 0, 0, 0, 0, 0, 0, 0, 0, 0, 0, 0, 0, 0, 0, 0, 0, 0, 0, 0, 0, 0, 0, 0, 0, 0, 0, 0, 0, 0, 0, 0, 0, 0, 0, 0, 0, 0, 0, 0, 0, 0, 0, 0, 0, 0, 0, 0, 0, 0, 0, 0, 0, 0, 0, 0, 0, 0, 0, 0, 0, 0, 0, 0, 0, 0, 0, 0, 0, 0, 0, 0, 0, 0, 0, 0, 0, 0, 0, 0, 0, 0, 0, 0, 0, 0, 0, 0, 0, 0, 0, 0, 0, 0, 0, 0, 0, 0, 0, 0, 0, 0, 0, 0, 0, 0, 0, 0, 0, 0, 0, 0, 0, 0, 0, 0, 0, 0, 0, 0, 0, 0, 0, 0, 0, 0, 0, 0, 0, 0, 0, 0, 0, 0, 0, 0, 0, 0, 0, 0, 0, 0, 0, 0, 0, 0, 0, 0, 0, 0, 0, 0, 0, 0, 0, 0, 0, 0, 0, 0, 0, 0, 0, 0, 0, 0, 0, 0, 0, 0, 0, 0, 0, 0, 0, 0, 0, 0, 0, 0, 0, 0, 0, 0, 0, 0, 0, 0, 0, 0, 0, 0, 0, 0, 0, 0, 0, 0, 0, 0, 0, 0, 0, 0, 0, 0, 0, 0, 0, 0]\n"
     ]
    },
    {
     "name": "stderr",
     "output_type": "stream",
     "text": [
      "/tmp/ipykernel_626047/3884320758.py:4: UserWarning: city-2_m45_k300_C-4.png is a low contrast image\n",
      "  io.imsave(path, rgb_arr)\n",
      "Lossy conversion from float64 to uint8. Range [0, 1]. Convert image to uint8 prior to saving to suppress this warning.\n"
     ]
    },
    {
     "name": "stdout",
     "output_type": "stream",
     "text": [
      "cycle5\n",
      "prev pal:\n",
      "[[22.242259948718736, 1.681035207190828, -15.864947585701698], [0.0, 0.0, 0.0]]\n",
      "refined pal:\n",
      "[[17.6864033127195, 1.96316412147387, -17.94372268663394], [45.782001842139664, 0.2029581084033151, -4.905038302746922]]\n",
      "pal diff\n",
      "46.04445987758854\n",
      "False\n",
      "p-color assignments:\n",
      "[0, 0, 0, 0, 0, 0, 0, 0, 0, 0, 0, 0, 0, 0, 0, 0, 0, 0, 0, 0, 0, 0, 0, 0, 0, 0, 0, 0, 0, 0, 0, 0, 0, 0, 0, 0, 0, 0, 0, 0, 0, 0, 1, 1, 1, 1, 1, 1, 1, 0, 0, 0, 0, 0, 0, 0, 0, 0, 0, 0, 1, 1, 1, 0, 1, 1, 1, 1, 1, 1, 1, 0, 0, 0, 0, 0, 0, 0, 0, 0, 0, 0, 0, 1, 1, 1, 1, 1, 0, 0, 0, 0, 0, 0, 0, 0, 0, 0, 0, 0, 0, 0, 1, 1, 1, 0, 0, 0, 0, 0, 0, 0, 0, 0, 0, 0, 0, 0, 0, 0, 1, 1, 0, 0, 0, 0, 0, 0, 0, 0, 0, 0, 0, 0, 0, 0, 0, 0, 0, 0, 0, 0, 0, 0, 0, 0, 0, 0, 0, 0, 0, 0, 0, 0, 0, 0, 0, 0, 0, 0, 0, 0, 0, 0, 0, 0, 0, 0, 0, 0, 0, 0, 0, 0, 0, 0, 0, 0, 0, 0, 0, 0, 0, 0, 0, 0, 0, 0, 0, 0, 0, 0, 0, 0, 0, 0, 1, 0, 0, 0, 0, 0, 0, 0, 1, 1, 1, 0, 0, 0, 0, 0, 1, 1, 1, 0, 1, 0, 0, 0, 0, 0, 0, 1, 1, 0, 0, 0, 1, 1, 1, 0, 0, 0, 1, 1, 0, 0, 0, 0, 0, 1, 0, 0, 0, 0, 0, 0, 0, 0, 0, 0, 1, 0, 0, 0, 0, 0, 0, 0, 0, 0, 1, 0, 0, 0, 0, 0, 0, 0, 1, 0, 0, 0, 0, 0, 0, 0, 0, 0, 0, 1, 0, 0, 0, 0, 0, 0, 0, 1, 1, 0, 0, 0, 0, 0, 0, 0, 0, 0, 0, 0, 0, 0, 0, 0, 1, 1, 1, 1, 0, 0, 0, 0, 0, 0, 0, 0, 0, 0, 0, 0, 0, 0]\n"
     ]
    },
    {
     "name": "stderr",
     "output_type": "stream",
     "text": [
      "Lossy conversion from float64 to uint8. Range [0, 1]. Convert image to uint8 prior to saving to suppress this warning.\n"
     ]
    },
    {
     "name": "stdout",
     "output_type": "stream",
     "text": [
      "cycle6\n",
      "prev pal:\n",
      "[[17.6864033127195, 1.96316412147387, -17.94372268663394], [45.782001842139664, 0.2029581084033151, -4.905038302746922]]\n",
      "refined pal:\n",
      "[[18.013309626500103, 1.9602423474260444, -17.96840198552202], [47.37249478236499, -0.04794387667802111, -3.40044828574582]]\n",
      "pal diff\n",
      "2.203726552520464\n",
      "False\n",
      "p-color assignments:\n",
      "[0, 0, 0, 0, 0, 0, 0, 0, 0, 0, 0, 0, 0, 0, 0, 0, 0, 0, 0, 0, 0, 0, 0, 0, 0, 0, 0, 0, 0, 0, 0, 0, 0, 0, 0, 0, 0, 0, 0, 0, 0, 0, 0, 1, 1, 1, 1, 1, 1, 0, 0, 0, 0, 0, 0, 0, 0, 0, 0, 0, 0, 0, 1, 0, 1, 1, 1, 1, 1, 1, 1, 0, 0, 0, 0, 0, 0, 0, 0, 0, 0, 0, 0, 1, 1, 1, 1, 1, 0, 0, 0, 0, 0, 0, 0, 0, 0, 0, 0, 0, 0, 0, 1, 1, 1, 0, 0, 0, 0, 0, 0, 0, 0, 0, 0, 0, 0, 0, 0, 0, 1, 1, 0, 0, 0, 0, 0, 0, 0, 0, 0, 0, 0, 0, 0, 0, 0, 0, 0, 0, 0, 0, 0, 0, 0, 0, 0, 0, 0, 0, 0, 0, 0, 0, 0, 0, 0, 0, 0, 0, 0, 0, 0, 0, 0, 0, 0, 0, 0, 0, 0, 0, 0, 0, 0, 0, 0, 0, 0, 0, 0, 0, 0, 0, 0, 0, 0, 0, 0, 0, 0, 0, 0, 0, 0, 0, 1, 0, 0, 0, 0, 0, 0, 0, 1, 1, 1, 0, 0, 0, 0, 0, 1, 1, 1, 0, 1, 0, 0, 0, 0, 0, 0, 1, 1, 0, 0, 0, 1, 1, 1, 0, 0, 0, 0, 1, 0, 0, 0, 0, 0, 1, 0, 0, 0, 0, 0, 0, 0, 0, 0, 0, 1, 0, 0, 0, 0, 0, 0, 0, 0, 0, 1, 0, 0, 0, 0, 0, 0, 0, 1, 0, 0, 0, 0, 0, 0, 0, 0, 0, 0, 0, 0, 0, 0, 0, 0, 0, 0, 1, 1, 0, 0, 0, 0, 0, 0, 0, 0, 0, 0, 0, 0, 0, 0, 0, 1, 1, 1, 1, 0, 0, 0, 0, 0, 0, 0, 0, 0, 0, 0, 0, 0, 0]\n"
     ]
    },
    {
     "name": "stderr",
     "output_type": "stream",
     "text": [
      "Lossy conversion from float64 to uint8. Range [0, 1]. Convert image to uint8 prior to saving to suppress this warning.\n"
     ]
    },
    {
     "name": "stdout",
     "output_type": "stream",
     "text": [
      "cycle7\n",
      "prev pal:\n",
      "[[18.013309626500103, 1.9602423474260444, -17.96840198552202], [47.37249478236499, -0.04794387667802111, -3.40044828574582]]\n",
      "refined pal:\n",
      "[[18.216802999524415, 1.9950269346965883, -18.066750977627766], [48.93310615495504, -0.4670082890620471, -0.8822158875278626]]\n",
      "pal diff\n",
      "2.9920924533541307\n",
      "False\n",
      "p-color assignments:\n",
      "[0, 0, 0, 0, 0, 0, 0, 0, 0, 0, 0, 0, 0, 0, 0, 0, 0, 0, 0, 0, 0, 0, 0, 0, 0, 0, 0, 0, 0, 0, 0, 0, 0, 0, 0, 0, 0, 0, 0, 0, 0, 0, 0, 0, 1, 1, 1, 1, 1, 0, 0, 0, 0, 0, 0, 0, 0, 0, 0, 0, 0, 0, 0, 0, 1, 1, 1, 1, 1, 1, 1, 0, 0, 0, 0, 0, 0, 0, 0, 0, 0, 0, 0, 1, 1, 1, 1, 0, 0, 0, 0, 0, 0, 0, 0, 0, 0, 0, 0, 0, 0, 0, 1, 1, 1, 0, 0, 0, 0, 0, 0, 0, 0, 0, 0, 0, 0, 0, 0, 0, 1, 1, 0, 0, 0, 0, 0, 0, 0, 0, 0, 0, 0, 0, 0, 0, 0, 0, 0, 0, 0, 0, 0, 0, 0, 0, 0, 0, 0, 0, 0, 0, 0, 0, 0, 0, 0, 0, 0, 0, 0, 0, 0, 0, 0, 0, 0, 0, 0, 0, 0, 0, 0, 0, 0, 0, 0, 0, 0, 0, 0, 0, 0, 0, 0, 0, 0, 0, 0, 0, 0, 0, 0, 0, 0, 0, 1, 0, 0, 0, 0, 0, 0, 0, 1, 1, 0, 0, 0, 0, 0, 0, 1, 1, 1, 0, 1, 0, 0, 0, 0, 0, 0, 1, 1, 0, 0, 0, 1, 1, 1, 0, 0, 0, 0, 1, 0, 0, 0, 0, 0, 1, 0, 0, 0, 0, 0, 0, 0, 0, 0, 0, 1, 0, 0, 0, 0, 0, 0, 0, 0, 0, 1, 0, 0, 0, 0, 0, 0, 0, 1, 0, 0, 0, 0, 0, 0, 0, 0, 0, 0, 0, 0, 0, 0, 0, 0, 0, 0, 1, 1, 0, 0, 0, 0, 0, 0, 0, 0, 0, 0, 0, 0, 0, 0, 0, 1, 1, 1, 1, 0, 0, 0, 0, 0, 0, 0, 0, 0, 0, 0, 0, 0, 0]\n"
     ]
    },
    {
     "name": "stderr",
     "output_type": "stream",
     "text": [
      "Lossy conversion from float64 to uint8. Range [0, 1]. Convert image to uint8 prior to saving to suppress this warning.\n"
     ]
    },
    {
     "name": "stdout",
     "output_type": "stream",
     "text": [
      "cycle8\n",
      "prev pal:\n",
      "[[18.216802999524415, 1.9950269346965883, -18.066750977627766], [48.93310615495504, -0.4670082890620471, -0.8822158875278626]]\n",
      "refined pal:\n",
      "[[18.687723806095782, 1.9463057639077603, -18.113088757549644], [50.202908082921454, -0.5331993242543995, 1.7551497924501076]]\n",
      "pal diff\n",
      "2.927879082088725\n",
      "False\n",
      "p-color assignments:\n",
      "[0, 0, 0, 0, 0, 0, 0, 0, 0, 0, 0, 0, 0, 0, 0, 0, 0, 0, 0, 0, 0, 0, 0, 0, 0, 0, 0, 0, 0, 0, 0, 0, 0, 0, 0, 0, 0, 0, 0, 0, 0, 0, 0, 0, 1, 1, 1, 1, 1, 0, 0, 0, 0, 0, 0, 0, 0, 0, 0, 0, 0, 0, 0, 0, 0, 1, 1, 1, 1, 1, 0, 0, 0, 0, 0, 0, 0, 0, 0, 0, 0, 0, 0, 0, 1, 1, 1, 0, 0, 0, 0, 0, 0, 0, 0, 0, 0, 0, 0, 0, 0, 0, 1, 1, 0, 0, 0, 0, 0, 0, 0, 0, 0, 0, 0, 0, 0, 0, 0, 0, 1, 1, 0, 0, 0, 0, 0, 0, 0, 0, 0, 0, 0, 0, 0, 0, 0, 0, 0, 0, 0, 0, 0, 0, 0, 0, 0, 0, 0, 0, 0, 0, 0, 0, 0, 0, 0, 0, 0, 0, 0, 0, 0, 0, 0, 0, 0, 0, 0, 0, 0, 0, 0, 0, 0, 0, 0, 0, 0, 0, 0, 0, 0, 0, 0, 0, 0, 0, 0, 0, 0, 0, 0, 0, 0, 0, 1, 0, 0, 0, 0, 0, 0, 0, 1, 1, 0, 0, 0, 0, 0, 0, 1, 1, 1, 0, 1, 0, 0, 0, 0, 0, 0, 1, 1, 0, 0, 0, 0, 1, 1, 0, 0, 0, 0, 1, 0, 0, 0, 0, 0, 1, 0, 0, 0, 0, 0, 0, 0, 0, 0, 0, 1, 0, 0, 0, 0, 0, 0, 0, 0, 0, 1, 0, 0, 0, 0, 0, 0, 0, 0, 0, 0, 0, 0, 0, 0, 0, 0, 0, 0, 0, 0, 0, 0, 0, 0, 0, 0, 1, 1, 0, 0, 0, 0, 0, 0, 0, 0, 0, 0, 0, 0, 0, 0, 0, 1, 1, 1, 1, 0, 0, 0, 0, 0, 0, 0, 0, 0, 0, 0, 0, 0, 0]\n"
     ]
    },
    {
     "name": "stderr",
     "output_type": "stream",
     "text": [
      "Lossy conversion from float64 to uint8. Range [0, 1]. Convert image to uint8 prior to saving to suppress this warning.\n"
     ]
    },
    {
     "name": "stdout",
     "output_type": "stream",
     "text": [
      "cycle9\n",
      "prev pal:\n",
      "[[18.687723806095782, 1.9463057639077603, -18.113088757549644], [50.202908082921454, -0.5331993242543995, 1.7551497924501076]]\n",
      "refined pal:\n",
      "[[18.921282452070955, 1.9598621266408913, -18.36679959046181], [51.01066096616603, -0.8472735569296744, 5.513250946244394]]\n",
      "pal diff\n",
      "3.8567384700249554\n",
      "False\n",
      "p-color assignments:\n",
      "[0, 0, 0, 0, 0, 0, 0, 0, 0, 0, 0, 0, 0, 0, 0, 0, 0, 0, 0, 0, 0, 0, 0, 0, 0, 0, 0, 0, 0, 0, 0, 0, 0, 0, 0, 0, 0, 0, 0, 0, 0, 0, 0, 0, 0, 1, 1, 0, 0, 0, 0, 0, 0, 0, 0, 0, 0, 0, 0, 0, 0, 0, 0, 0, 0, 1, 1, 1, 1, 1, 0, 0, 0, 0, 0, 0, 0, 0, 0, 0, 0, 0, 0, 0, 1, 1, 1, 0, 0, 0, 0, 0, 0, 0, 0, 0, 0, 0, 0, 0, 0, 0, 1, 1, 0, 0, 0, 0, 0, 0, 0, 0, 0, 0, 0, 0, 0, 0, 0, 0, 1, 1, 0, 0, 0, 0, 0, 0, 0, 0, 0, 0, 0, 0, 0, 0, 0, 0, 0, 0, 0, 0, 0, 0, 0, 0, 0, 0, 0, 0, 0, 0, 0, 0, 0, 0, 0, 0, 0, 0, 0, 0, 0, 0, 0, 0, 0, 0, 0, 0, 0, 0, 0, 0, 0, 0, 0, 0, 0, 0, 0, 0, 0, 0, 0, 0, 0, 0, 0, 0, 0, 0, 0, 0, 0, 0, 1, 0, 0, 0, 0, 0, 0, 0, 1, 1, 0, 0, 0, 0, 0, 0, 1, 1, 1, 0, 1, 0, 0, 0, 0, 0, 0, 1, 1, 0, 0, 0, 0, 1, 1, 0, 0, 0, 0, 1, 0, 0, 0, 0, 0, 1, 0, 0, 0, 0, 0, 0, 0, 0, 0, 0, 1, 0, 0, 0, 0, 0, 0, 0, 0, 0, 1, 0, 0, 0, 0, 0, 0, 0, 0, 0, 0, 0, 0, 0, 0, 0, 0, 0, 0, 0, 0, 0, 0, 0, 0, 0, 0, 1, 1, 0, 0, 0, 0, 0, 0, 0, 0, 0, 0, 0, 0, 0, 0, 0, 1, 1, 1, 1, 0, 0, 0, 0, 0, 0, 0, 0, 0, 0, 0, 0, 0, 0]\n"
     ]
    },
    {
     "name": "stderr",
     "output_type": "stream",
     "text": [
      "Lossy conversion from float64 to uint8. Range [0, 1]. Convert image to uint8 prior to saving to suppress this warning.\n"
     ]
    },
    {
     "name": "stdout",
     "output_type": "stream",
     "text": [
      "cycle10\n",
      "prev pal:\n",
      "[[18.921282452070955, 1.9598621266408913, -18.36679959046181], [51.01066096616603, -0.8472735569296744, 5.513250946244394]]\n",
      "refined pal:\n",
      "[[19.55738471783288, 1.9084156573595776, -18.482612481675197], [52.18536646369318, -1.0347526733538503, 12.0069757780784]]\n",
      "pal diff\n",
      "6.60178336637861\n",
      "False\n",
      "p-color assignments:\n",
      "[0, 0, 0, 0, 0, 0, 0, 0, 0, 0, 0, 0, 0, 0, 0, 0, 0, 0, 0, 0, 0, 0, 0, 0, 0, 0, 0, 0, 0, 0, 0, 0, 0, 0, 0, 0, 0, 0, 0, 0, 0, 0, 0, 0, 0, 0, 0, 0, 0, 0, 0, 0, 0, 0, 0, 0, 0, 0, 0, 0, 0, 0, 0, 0, 0, 1, 1, 1, 1, 0, 0, 0, 0, 0, 0, 0, 0, 0, 0, 0, 0, 0, 0, 0, 1, 1, 1, 0, 0, 0, 0, 0, 0, 0, 0, 0, 0, 0, 0, 0, 0, 0, 1, 1, 0, 0, 0, 0, 0, 0, 0, 0, 0, 0, 0, 0, 0, 0, 0, 0, 0, 0, 0, 0, 0, 0, 0, 0, 0, 0, 0, 0, 0, 0, 0, 0, 0, 0, 0, 0, 0, 0, 0, 0, 0, 0, 0, 0, 0, 0, 0, 0, 0, 0, 0, 0, 0, 0, 0, 0, 0, 0, 0, 0, 0, 0, 0, 0, 0, 0, 0, 0, 0, 0, 0, 0, 0, 0, 0, 0, 0, 0, 0, 0, 0, 0, 0, 0, 0, 0, 0, 0, 0, 0, 0, 0, 1, 0, 0, 0, 0, 0, 0, 0, 0, 1, 0, 0, 0, 0, 0, 0, 1, 1, 1, 0, 1, 0, 0, 0, 0, 0, 0, 1, 1, 0, 0, 0, 0, 1, 0, 0, 0, 0, 0, 1, 0, 0, 0, 0, 0, 1, 0, 0, 0, 0, 0, 0, 0, 0, 0, 0, 1, 0, 0, 0, 0, 0, 0, 0, 0, 0, 1, 0, 0, 0, 0, 0, 0, 0, 0, 0, 0, 0, 0, 0, 0, 0, 0, 0, 0, 0, 0, 0, 0, 0, 0, 0, 0, 1, 1, 0, 0, 0, 0, 0, 0, 0, 0, 0, 0, 0, 0, 0, 0, 0, 1, 1, 1, 1, 0, 0, 0, 0, 0, 0, 0, 0, 0, 0, 0, 0, 0, 0]\n"
     ]
    },
    {
     "name": "stderr",
     "output_type": "stream",
     "text": [
      "Lossy conversion from float64 to uint8. Range [0, 1]. Convert image to uint8 prior to saving to suppress this warning.\n"
     ]
    },
    {
     "name": "stdout",
     "output_type": "stream",
     "text": [
      "cycle11\n"
     ]
    }
   ],
   "source": [
    "clusters = initial_cluster_center(S,img,img_h,img_w) # initialize superpixel clusters as a grid \n",
    "perturb_center(clusters, img) # perturb centers to lowest gradient position\n",
    "assign_color(clusters, palette, 0) # initialize superpixels to first color in palette (avg)\n",
    "print(\"T\")\n",
    "print(T)\n",
    "cycle = 0\n",
    "while T > 0:\n",
    "    print(\"cycle\"+str(cycle))\n",
    "    # Refine superpixels w/ modified slic\n",
    "    assign_pixels(clusters,S,img,img_h,img_w)\n",
    "    update_cluster_mean(clusters, img)\n",
    "    \n",
    "    laplacian(clusters)\n",
    "    new_means = update_mean_color(clusters, bilateral) \n",
    "    \n",
    "    # Palette Iteration\n",
    "    # associate superpixels to palette colors\n",
    "    probs = assign_pal_color(clusters, palette, pal_size)\n",
    "   \n",
    "    # refine color palette\n",
    "    prev_pal = palette.copy() # copy palette to check for convergence in next step\n",
    "    print(\"prev pal:\")\n",
    "    print(palette)\n",
    "    palette = refine_pal(clusters, palette, pal_size, new_means, probs)\n",
    "    print(\"refined pal:\")\n",
    "    print(palette)\n",
    "       \n",
    "    # check palette convergence\n",
    "    answer = if_converg(prev_pal, palette)\n",
    "    print(answer)\n",
    "    if answer == True:\n",
    "        # reduce temperature by 30 percent\n",
    "        T = T * 0.7 # test\n",
    "        print(T)\n",
    "        # palette size limit reached?\n",
    "        if pal_size == colors:\n",
    "            break \n",
    "        else: # expand palette / resolve splits for each color\n",
    "\n",
    "            # inputs: list of {new means} associated with each existing cluster/Palette Color\n",
    "            new_pal = expand_pal(palette, pal_size, new_means, probs)\n",
    "            pal_size = len(new_pal)\n",
    "            palette = new_pal\n",
    "            print(new_pal)\n",
    "            print(pal_size)\n",
    "\n",
    "    assigns = pal_assigns(probs)\n",
    "    print(\"p-color assignments:\")\n",
    "    print(assigns)\n",
    "    name = 'city-2_m{m}_k{k}_C-{c}.png'.format(m=m, k=k, c=cycle)\n",
    "    avg_color_cluster(img,name,clusters)\n",
    "\n",
    "    cycle += 1\n",
    "            "
   ]
  }
 ],
 "metadata": {
  "kernelspec": {
   "display_name": "Python 3 (ipykernel)",
   "language": "python",
   "name": "python3"
  },
  "language_info": {
   "codemirror_mode": {
    "name": "ipython",
    "version": 3
   },
   "file_extension": ".py",
   "mimetype": "text/x-python",
   "name": "python",
   "nbconvert_exporter": "python",
   "pygments_lexer": "ipython3",
   "version": "3.11.3"
  }
 },
 "nbformat": 4,
 "nbformat_minor": 5
}
