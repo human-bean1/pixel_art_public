{
 "cells": [
  {
   "cell_type": "code",
   "execution_count": 14,
   "id": "917e0f32",
   "metadata": {},
   "outputs": [],
   "source": [
    "import math\n",
    "from skimage import io, color\n",
    "from skimage.transform import resize\n",
    "import numpy as np\n",
    "\n",
    "from numpy import array\n",
    "from sklearn.decomposition import PCA"
   ]
  },
  {
   "cell_type": "code",
   "execution_count": 15,
   "id": "99a3ad06",
   "metadata": {},
   "outputs": [],
   "source": [
    "# A class to initialize the super pixels, of the form - [h,w,l,a,b].\n",
    "class SuperPixels(object):\n",
    "\n",
    "    def __init__(self, h, w, l=0, a=0, b=0):\n",
    "        self.update(h, w, l, a, b)\n",
    "        self.pixels = [] # tracks associated input pixels\n",
    "\n",
    "    def update(self, h, w, l, a, b):\n",
    "        self.h = h\n",
    "        self.w = w\n",
    "        self.l = l\n",
    "        self.a = a\n",
    "        self.b = b"
   ]
  },
  {
   "cell_type": "code",
   "execution_count": 16,
   "id": "178704af",
   "metadata": {},
   "outputs": [],
   "source": [
    "# returns an object of class SuperPixel\n",
    "def make_superPixel(h, w,img):\n",
    "    return SuperPixels(h, w,img[h,w][0],img[h,w][1],img[h,w][2])"
   ]
  },
  {
   "cell_type": "code",
   "execution_count": 17,
   "id": "134756f2",
   "metadata": {},
   "outputs": [],
   "source": [
    "# calculate gradient;  G(x,y) = ‖I(x+ 1,y)−I(x−1,y)‖²+‖I(x,y+ 1)−I(x,y−1)‖²\n",
    "def calc_gradient(h, w,img,img_w,img_h):\n",
    "    \n",
    "    l = pow(img[h, w+1][0] - img[h, w - 1][0] , 2) #\n",
    "    a = pow(img[h, w+1][1] - img[h, w - 1][1] , 2)\n",
    "    b = pow(img[h, w+1][2] - img[h, w - 1][2] , 2)\n",
    "    x_diff = math.sqrt(l + a + b)\n",
    "    \n",
    "    l = pow(img[h + 1, w][0] - img[h - 1, w][0] , 2)\n",
    "    a = pow(img[h + 1, w][1] - img[h - 1, w][1] , 2)\n",
    "    b = pow(img[h + 1, w][2] - img[h - 1, w][2] , 2)\n",
    "    y_diff = math.sqrt(l + a + b)\n",
    "    \n",
    "    grad = x_diff + y_diff\n",
    "    return grad"
   ]
  },
  {
   "cell_type": "code",
   "execution_count": 18,
   "id": "33d8d3fe",
   "metadata": {},
   "outputs": [],
   "source": [
    "# reassign clusters based on gradient\n",
    "def perturb_center(clusters, img):\n",
    "    for c in clusters:\n",
    "        center_gradient = calc_gradient(c.h, c.w,img,img_w,img_h)\n",
    "        w = c.w\n",
    "        h = c.h\n",
    "        for x in range(-1, 2):\n",
    "            for y in range(-1, 2):\n",
    "                W = w + x\n",
    "                H = h + y\n",
    "            \n",
    "                if H == img_h or W == img_w: # might need to increase to H-1,W-1\n",
    "                    new_gradient == math.inf\n",
    "                else:\n",
    "                    new_gradient = calc_gradient(H,W, img,img_w,img_h)\n",
    "                    \n",
    "                if new_gradient < center_gradient: # reassign to lower gradient position\n",
    "                    c.update(H, W, img[H,W][0], img[H,W][1],img[H,W][2])\n",
    "                    center_gradient = new_gradient # keeps track of lowest found in neighborhood so far"
   ]
  },
  {
   "cell_type": "code",
   "execution_count": 19,
   "id": "0d900bc3",
   "metadata": {},
   "outputs": [],
   "source": [
    "# Defines initial cluster centers distanced at S\n",
    "def initial_cluster_center(S,img,img_h,img_w):\n",
    "    \n",
    "    clusters = []\n",
    "    h = S // 2 \n",
    "    w = S // 2\n",
    "    while h < img_h:\n",
    "        while w < img_w:\n",
    "            clusters.append(make_superPixel(h, w,img))\n",
    "            w += S\n",
    "        w = S // 2\n",
    "        h += S\n",
    "        \n",
    "    return clusters"
   ]
  },
  {
   "cell_type": "code",
   "execution_count": 20,
   "id": "79d2179a",
   "metadata": {},
   "outputs": [],
   "source": [
    "# replaces cluster center's (x,y) position w/ mean of the input pixels \n",
    "def update_cluster_mean(clusters, image):\n",
    "    for c in clusters:\n",
    "        sum_h = sum_w = number = 0\n",
    "        sum_l, sum_a, sum_b = 0,0,0\n",
    "        n = len(c.pixels)\n",
    "        \n",
    "        for p in c.pixels:\n",
    "            sum_h += p[0]\n",
    "            sum_w += p[1]            \n",
    "            sum_l += image[p[0],p[1]][0]\n",
    "            sum_a += image[p[0],p[1]][1]\n",
    "            sum_b += image[p[0],p[1]][2]\n",
    "            \n",
    "        H = sum_h // n\n",
    "        W = sum_w // n\n",
    "        avg_l = sum_l / n # don't use floor division for LAB values\n",
    "        avg_a = sum_a / n\n",
    "        avg_b = sum_b / n\n",
    "        c.update(H, W, avg_l, avg_a, avg_b)"
   ]
  },
  {
   "cell_type": "code",
   "execution_count": 21,
   "id": "42d21f45",
   "metadata": {},
   "outputs": [],
   "source": [
    "# converts LAB images back to RGB and save it\n",
    "def lab2rgb(path, lab_arr):\n",
    "    rgb_arr = color.lab2rgb(lab_arr)\n",
    "    io.imsave(path, rgb_arr)"
   ]
  },
  {
   "cell_type": "code",
   "execution_count": 22,
   "id": "e39ddcad",
   "metadata": {},
   "outputs": [],
   "source": [
    "# replace the color of each pixel in a cluster by the color of the cluster's center\n",
    "def avg_color_cluster(img,name,clusters):\n",
    "    image = np.copy(img)\n",
    "        \n",
    "    for c in clusters:\n",
    "        for p in c.pixels:\n",
    "            image[p[0],p[1]][0] = c.l\n",
    "            image[p[0],p[1]][1] = c.a\n",
    "            image[p[0],p[1]][2] = c.b\n",
    "        # To change the color of cluster center to Black\n",
    "        image[c.h, c.w][0] = 0\n",
    "        image[c.h, c.w][1] = 0\n",
    "        image[c.h, c.w][2] = 0        \n",
    "        \n",
    "    lab2rgb(name, image)"
   ]
  },
  {
   "cell_type": "code",
   "execution_count": 23,
   "id": "0ad89bdc",
   "metadata": {},
   "outputs": [],
   "source": [
    "# assign pixels to center w/ best color & position proximity in a 2S x 2S neighborhood\n",
    "def assign_pixels(clusters, S, img, img_h, img_w):\n",
    "    \n",
    "    prev = {} # tracks clusters found before best cluster identified\n",
    "    \n",
    "    # initialize the distance between pixels and cluster center as infinity\n",
    "    dis = np.full((img_h, img_w), np.inf) \n",
    "    \n",
    "    for c in clusters:\n",
    "        for h in range(c.h - 2 * S, c.h + 2 * S):       \n",
    "            if h < 0 or h >= img_h: continue           # check image height boundaries\n",
    "            for w in range(c.w - 2 * S, c.w + 2 * S):  # 2S x 2S neighborhood\n",
    "                if w < 0 or w >= img_w: continue       # check image width boundaries\n",
    "                l, a, b = img[h,w]                     # load input pixel\n",
    "                Dc = math.sqrt(math.pow(l - c.l, 2) + math.pow(a - c.a, 2) + math.pow(b - c.b, 2))\n",
    "                Dp = math.sqrt(math.pow(h - c.h, 2) + math.pow(w - c.w, 2))\n",
    "                m = 20 # controls compactness\n",
    "                D = Dc + (Dp * m / S) # don't use floor division\n",
    "                # check if closest center found so far\n",
    "                if D < dis[h,w]:\n",
    "                    if (h, w) in prev:\n",
    "                        prev[(h, w)].pixels.remove((h, w)) # removes an input pixel prev. associated w/ another cluster\n",
    "                        prev[(h, w)] = c # re-assigned cluster\n",
    "                        c.pixels.append((h, w))\n",
    "                    else:\n",
    "                        prev[(h, w)] = c\n",
    "                        c.pixels.append((h, w))\n",
    "                    dis[h, w] = D "
   ]
  },
  {
   "cell_type": "code",
   "execution_count": 24,
   "id": "acce5047",
   "metadata": {},
   "outputs": [],
   "source": [
    "# function for the Simple Linear Iterative Clustering\n",
    "def slic(S,img,img_h,img_w):\n",
    "        \n",
    "    clusters = initial_cluster_center(S,img,img_h,img_w) # initialize superpixel clusters as a grid \n",
    "#     perturb_center(clusters, img)\n",
    "    \n",
    "    for i in range(10): # usually converges after 10 iterations\n",
    "        assign_pixels(clusters,S,img,img_h,img_w)\n",
    "        update_cluster_mean(clusters,img)\n",
    "    name = 'slic_m{m}_k{k}.png'.format(m=m, k=k)\n",
    "    print(\"slic ran\")\n",
    "    avg_color_cluster(img, name, clusters)\n",
    "    return clusters"
   ]
  },
  {
   "cell_type": "code",
   "execution_count": 25,
   "id": "86c5b7a3",
   "metadata": {},
   "outputs": [
    {
     "name": "stdout",
     "output_type": "stream",
     "text": [
      "(364, 600, 3)\n"
     ]
    }
   ],
   "source": [
    "# read the input RGB image\n",
    "rgb = io.imread(\"city-small.jpg\",plugin='matplotlib')\n",
    "print(rgb.shape)\n",
    "\n",
    "# convert RGB to LAB\n",
    "img = color.rgb2lab(rgb)\n",
    "\n",
    "k = 50   # Number of Super pixels, # adjust later\n",
    "m = 20    # Constant for normalizing the color proximity, range of m = [1,40], # paper uses '45'\n",
    "\n",
    "img_h = img.shape[0] # Image Height\n",
    "img_w = img.shape[1] # Image Width\n",
    "\n",
    "N = img_h * img_w  # Total number of pixels in the image\n",
    "S = int(math.sqrt(N / k)) # initial length of one superpixel along one dimension\n"
   ]
  },
  {
   "cell_type": "code",
   "execution_count": null,
   "id": "8f601cdd",
   "metadata": {},
   "outputs": [],
   "source": [
    "cluster = slic(S,img,img_h,img_w)"
   ]
  }
 ],
 "metadata": {
  "kernelspec": {
   "display_name": "Python 3 (ipykernel)",
   "language": "python",
   "name": "python3"
  },
  "language_info": {
   "codemirror_mode": {
    "name": "ipython",
    "version": 3
   },
   "file_extension": ".py",
   "mimetype": "text/x-python",
   "name": "python",
   "nbconvert_exporter": "python",
   "pygments_lexer": "ipython3",
   "version": "3.11.3"
  }
 },
 "nbformat": 4,
 "nbformat_minor": 5
}
